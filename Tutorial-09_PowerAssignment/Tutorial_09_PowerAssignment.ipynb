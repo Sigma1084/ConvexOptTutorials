{
  "nbformat": 4,
  "nbformat_minor": 0,
  "metadata": {
    "colab": {
      "name": "Tutorial-09_PowerAssignment",
      "provenance": []
    },
    "kernelspec": {
      "name": "python3",
      "display_name": "Python 3"
    },
    "language_info": {
      "name": "python"
    }
  },
  "cells": [
    {
      "cell_type": "markdown",
      "source": [
        "# Power Assignment"
      ],
      "metadata": {
        "id": "yHh0kfdtHngM"
      }
    },
    {
      "cell_type": "code",
      "source": [
        "# Imports\n",
        "import numpy as np\n",
        "import cvxpy as cp"
      ],
      "metadata": {
        "id": "Wk6ancX8H_Or"
      },
      "execution_count": null,
      "outputs": []
    },
    {
      "cell_type": "markdown",
      "source": [
        "## Given"
      ],
      "metadata": {
        "id": "RcFOvdZWIy1t"
      }
    },
    {
      "cell_type": "code",
      "source": [
        "G = np.array([\n",
        "    [1.0, 0.1, 0.2, 0.1, 0.0],\n",
        "    [0.1, 1.0, 0.1, 0.1, 0.0],\n",
        "    [0.2, 0.1, 2.0, 0.2, 0.2],\n",
        "    [0.1, 0.1, 0.2, 1.0, 0.1],\n",
        "    [0.0, 0.0, 0.2, 0.1, 1.0]\n",
        "])\n",
        "n, _ = G.shape\n",
        "\n",
        "p_min = 0\n",
        "p_max = 3\n",
        "\n",
        "groups = [[1, 2], [3, 4, 5]]\n",
        "p_rc = [4, 6]\n",
        "\n",
        "sigma = 0.5\n",
        "p_received_max = 5\n",
        "\n",
        "# For alpha\n",
        "epsilon = 0.05\n",
        "alpha_max = 1e3 # An arbitary max\n",
        "alpha_min = 0\n"
      ],
      "metadata": {
        "id": "5Mb5wei-IyHE"
      },
      "execution_count": null,
      "outputs": []
    },
    {
      "cell_type": "markdown",
      "source": [
        "## Framing the Problem\n"
      ],
      "metadata": {
        "id": "0IQyFD-uH5_E"
      }
    },
    {
      "cell_type": "code",
      "source": [
        "# Variables and Parameters\n",
        "p = cp.Variable(n)\n",
        "S = cp.multiply(p, G.diagonal())\n",
        "I = G@p - S  # Axis = 1 is sum of rows\n",
        "alpha = cp.Parameter(shape=1)\n",
        "\n",
        "# Objective\n",
        "objective = cp.Minimize(alpha)\n",
        "\n",
        "# Constraints\n",
        "constraints = [\n",
        "    # Alpha Constraint\n",
        "    I + sigma <= alpha * S,\n",
        "\n",
        "    # Power Constraints\n",
        "    p >= p_min,\n",
        "    p <= p_max,\n",
        "\n",
        "    # Received Max Power\n",
        "    G @ p <= p_received_max\n",
        "]\n",
        "\n",
        "# Constraints for groups\n",
        "for i in range(len(groups)):\n",
        "    group = groups[i]\n",
        "    temp = np.zeros(n)\n",
        "    for ele in group:\n",
        "        temp[ele - 1] = 1\n",
        "    constraints += [cp.sum(cp.multiply(temp, p)) <= p_rc[i]]\n",
        "\n",
        "# Problem\n",
        "prob = cp.Problem(objective, constraints)\n",
        "\n"
      ],
      "metadata": {
        "id": "GmiaHu4vIYY_"
      },
      "execution_count": null,
      "outputs": []
    },
    {
      "cell_type": "markdown",
      "source": [
        "## Solving"
      ],
      "metadata": {
        "id": "hvSd5XVBGxO_"
      }
    },
    {
      "cell_type": "code",
      "source": [
        "# Solving using Bisection Menthod\n",
        "\n",
        "def optimize_solution(a_max, a_min):\n",
        "    alpha.value = [a_max]\n",
        "    prob.solve()\n",
        "    if prob.status != 'optimal':\n",
        "        return\n",
        "    alpha.value = [a_min]\n",
        "    prob.solve()\n",
        "    if prob.status == 'optimal':\n",
        "        return\n",
        "\n",
        "    opt_powers = None\n",
        "    while a_max - a_min > epsilon:\n",
        "        alpha.value = np.atleast_1d((a_max + a_min) / 2.0)\n",
        "        prob.solve()\n",
        "        if prob.status == 'optimal':\n",
        "            a_max = alpha.value\n",
        "            opt_powers = p.value\n",
        "        else:\n",
        "            a_min = alpha.value\n",
        "\n",
        "    return opt_powers\n",
        "\n",
        "\n",
        "optimal_powers = optimize_solution(alpha_max, alpha_min)\n",
        "print(\"Optimal Solution:\", 1 / float(alpha.value))\n",
        "print(\"Optimal Powers:\", optimal_powers)\n"
      ],
      "metadata": {
        "colab": {
          "base_uri": "https://localhost:8080/"
        },
        "id": "JcqH3J3tG06t",
        "outputId": "0f338588-d6d5-437a-bce3-795654aa83b0"
      },
      "execution_count": null,
      "outputs": [
        {
          "output_type": "stream",
          "name": "stdout",
          "text": [
            "Optimal Solution: 1.7246315789473685\n",
            "Optimal Powers: [2.05325577 1.85690341 1.5972308  2.3231306  1.85569467]\n"
          ]
        }
      ]
    }
  ]
}
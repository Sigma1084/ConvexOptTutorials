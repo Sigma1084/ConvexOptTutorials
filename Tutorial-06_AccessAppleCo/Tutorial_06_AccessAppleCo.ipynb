{
  "nbformat": 4,
  "nbformat_minor": 0,
  "metadata": {
    "colab": {
      "name": "Tutorial-06_AccessAppleCo.ipynb",
      "provenance": [],
      "collapsed_sections": [
        "da29JH3ISxjk",
        "F76Z-1qeP4Uk",
        "M2QoSGm_d3i5",
        "jQxSW8UngicK",
        "RPdJ-nBesVeJ",
        "zTHrmpHnWNc1"
      ]
    },
    "kernelspec": {
      "name": "python3",
      "display_name": "Python 3"
    },
    "language_info": {
      "name": "python"
    }
  },
  "cells": [
    {
      "cell_type": "markdown",
      "source": [
        "# Access Apple"
      ],
      "metadata": {
        "id": "TfmEUr1EPMho"
      }
    },
    {
      "cell_type": "code",
      "source": [
        "# The imports\n",
        "\n",
        "import numpy as np\n",
        "import cvxpy as cp"
      ],
      "metadata": {
        "id": "8YavpdwkVfy1"
      },
      "execution_count": null,
      "outputs": []
    },
    {
      "cell_type": "markdown",
      "source": [
        "## Info\n"
      ],
      "metadata": {
        "id": "da29JH3ISxjk"
      }
    },
    {
      "cell_type": "markdown",
      "source": [
        "Space required to store (in cubic feet)\n",
        "* 1 iPod cover : `40 / 1000`\n",
        "* 1 iPhone cover : `45 / 1000`\n",
        "* 1 iPad cover : `210 / 1000`\n",
        "\n",
        "Minimum Demand (per week)\n",
        "* iPods (say `d1`): `5 000`\n",
        "* iPhones (say `d2`): `0`\n",
        "* iPads (say `d3`): `4 000`\n",
        "\n",
        "Maximum Demand (per week)\n",
        "* iPods (say `mD1`): `10 000`\n",
        "* iPhones (say `mD2`): `15 000`\n",
        "* iPads (say `mD3`): `8 000`"
      ],
      "metadata": {
        "id": "X3ZM84oWS0ai"
      }
    },
    {
      "cell_type": "code",
      "source": [
        "# Some given data\n",
        "\n",
        "space_for_one = np.array([40/1000, 45/1000, 210/1000])\n",
        "max_space = 6000\n",
        "\n",
        "max_production = np.array([6000, 5000, 3000])\n",
        "\n",
        "min_demand = np.array([5000, 0, 4000])\n",
        "max_demand = np.array([10000, 15000, 8000])\n",
        "profits = np.array([4, 6, 10])"
      ],
      "metadata": {
        "id": "SY7-jrKxVmET"
      },
      "execution_count": null,
      "outputs": []
    },
    {
      "cell_type": "markdown",
      "source": [
        "## (a) Problem 1 (Proportion of Time Spent)"
      ],
      "metadata": {
        "id": "F76Z-1qeP4Uk"
      }
    },
    {
      "cell_type": "markdown",
      "source": [
        "In the current section, our decision variables will be the Proportions of time spent in making the 3 items.\n",
        "\n",
        "--- \n",
        "\n",
        "#### The decision variables x1, x2 and x3 are defined as follows\n",
        "* `x1`: Proportion of time (per day) for iPod cover production. \n",
        "* `x2`: Proportion of time (per day) for iPhone cover production. \n",
        "* `x3`: Proportion of time (per day) for iPad cover production. \n",
        "\n",
        "#### The number of \n",
        "* iPods produced per day `n1`: `x1 * 6000`\n",
        "* iPhones produced per day `n2`: `x2 * 5000`\n",
        "* iPads produced per day `n3`: `x3 * 3000`\n",
        "\n",
        "#### Space required to store (in cubic feet)\n",
        "* x1 iPod covers : `(x1 * 6000) * 40 / 1000` \n",
        "* x2 iPhone covers : `(x2 * 5000) * 45 / 1000`\n",
        "* x3 iPad covers : `(x3 * 3000) * 210 / 1000`\n",
        "\n",
        "--- \n",
        "\n",
        "### Profit (to Maximize)\n",
        "`profit` = `5 * ((x1 * 6000)*4 + (x2 * 5000)*6 + (x3 * 3000)*10)`\n",
        "\n",
        "---\n",
        "\n",
        "### Now, we're ready to write the constraints\n",
        "\n",
        "#### Does not exceed the max production per day\n",
        "* `x1 + x2 + x3` <= `1`\n",
        "\n",
        "#### Does not exceed the max space\n",
        "* `(x1 * 6000) * 40/1000` + `(x2 * 5000) * 45/1000` + `(x3 * 3000) * 210/1000` <= `6000`\n",
        "\n",
        "#### Satisfy the Min demand\n",
        "* `d1 <= 5 * (x1 * 6000)`\n",
        "* `d2 <= 5 * (x2 * 5000)`\n",
        "* `d3 <= 5 * (x3 * 3000)`\n",
        "\n",
        "#### Does not exceed the Max Demand\n",
        "* `5 * (x1 * 6000) <= mD1`\n",
        "* `5 * (x2 * 5000) <= mD2`\n",
        "* `5 * (x3 * 3000) <= mD3`\n",
        "\n",
        "\n",
        "--- \n",
        "\n",
        "### Now, we have a LP to maximize profit subject to the above-mentioned constraints\n",
        "\n",
        "---\n",
        "---"
      ],
      "metadata": {
        "id": "07OomQ_OQAh9"
      }
    },
    {
      "cell_type": "markdown",
      "source": [
        "## (b) Problem 2 (Number producted per week)"
      ],
      "metadata": {
        "id": "M2QoSGm_d3i5"
      }
    },
    {
      "cell_type": "markdown",
      "source": [
        "In the current section, our decision variables will be the number of items produced per week\n",
        "\n",
        "--- \n",
        "\n",
        "#### The number of \n",
        "* iPods produced per week: `y1`\n",
        "* iPhones produced per week: `y2`\n",
        "* iPads produced per week: `y3`\n",
        "\n",
        "#### Space required to store (in cubic feet)\n",
        "* x1 iPod covers : `(y1/5) * 40 / 1000` \n",
        "* x2 iPhone covers : `(y2/5) * 45 / 1000`\n",
        "* x3 iPad covers : `(y3/5) * 210 / 1000`\n",
        "\n",
        "--- \n",
        "\n",
        "### Profit (to Maximize)\n",
        "`profit` = `(y1*4 + y2*6 + y3*10)`\n",
        "\n",
        "---\n",
        "\n",
        "### Now, we're ready to write the constraints\n",
        "\n",
        "#### Does not exceed the max production per day\n",
        "* `(y1/5)/6000 + (y2/5)/5000 + (y3/5)/3000` <= `1`\n",
        "\n",
        "#### Does not exceed the max space\n",
        "* `(y1/5) * 40/1000` + `(y2/5) * 45/1000` + `(y3/5) * 210/1000` <= `6000`\n",
        "\n",
        "#### Satisfy the Min demand\n",
        "* `d1 <= y1`\n",
        "* `d2 <= y2`\n",
        "* `d3 <= y3`\n",
        "\n",
        "#### Does not exceed the Max Demand\n",
        "* `y1 <= mD1`\n",
        "* `y2 <= mD2`\n",
        "* `y3 <= mD3`\n",
        "\n",
        "\n",
        "--- \n",
        "\n",
        "### Now, we have a LP to maximize profit subject to the above-mentioned constraints\n",
        "\n",
        "---\n",
        "---"
      ],
      "metadata": {
        "id": "sydaX2u5d56v"
      }
    },
    {
      "cell_type": "markdown",
      "source": [
        "## (c) Problem 3 (Number of Hours used for production per week)"
      ],
      "metadata": {
        "id": "jQxSW8UngicK"
      }
    },
    {
      "cell_type": "markdown",
      "source": [
        "#### The decision variables z1, z2 and z3 are defined as follows\n",
        "* `z1`: The number of hours devoted for iPod production (in one week)\n",
        "* `z2`: The number of hours devoted for iPhone production (in one week)\n",
        "* `z3`: The number of hours devoted for iPad production (in one week)\n",
        "\n",
        "#### The number of \n",
        "* iPods produced per day `n1`: `(z1/40) * 6000`\n",
        "* iPhones produced per day `n2`: `(z2/40) * 5000`\n",
        "* iPads produced per day `n3`: `(z3/40) * 3000`\n",
        "\n",
        "#### Space required to store (in cubic feet)\n",
        "* n1 iPod covers : `((z1/40) * 6000) * 40 / 1000` \n",
        "* n2 iPhone covers : `((z2/40) * 5000) * 45 / 1000`\n",
        "* n3 iPad covers : `((z3/40) * 3000) * 210 / 1000`\n",
        "\n",
        "--- \n",
        "\n",
        "### Profit (to Maximize)\n",
        "`profit` = `5 * ( ((z1/40) * 6000)*4 + ((z2/40) * 5000)*6 + ((z3/40) * 3000)*10 )`\n",
        "\n",
        "---\n",
        "\n",
        "### Now, we're ready to write the constraints\n",
        "\n",
        "#### Does not exceed the max production per day\n",
        "* `z1 + z2 + z3` <= `8`\n",
        "\n",
        "#### Does not exceed the max space\n",
        "* `( (z1/40) * 6000) * 40/1000` + `((z2/40) * 5000) * 45/1000` + `((z3/40) * 3000) * 210/1000` <= `6000`\n",
        "\n",
        "#### Satisfy the Min demand\n",
        "* `d1 <= 5 * ((z1/40) * 6000)`\n",
        "* `d2 <= 5 * ((z2/40) * 5000)`\n",
        "* `d3 <= 5 * ((z3/40) * 3000)`\n",
        "\n",
        "#### Does not exceed the Max Demand\n",
        "* `5 * ((z1/40) * 6000) <= mD1`\n",
        "* `5 * ((z2/40) * 5000) <= mD2`\n",
        "* `5 * ((z3/40) * 3000) <= mD3`\n",
        "\n",
        "---\n",
        "---\n"
      ],
      "metadata": {
        "id": "L3WbjTxDpgwy"
      }
    },
    {
      "cell_type": "markdown",
      "source": [
        "## (d) Relation between x1, x2, x3 amd z1, z2, z3"
      ],
      "metadata": {
        "id": "RPdJ-nBesVeJ"
      }
    },
    {
      "cell_type": "markdown",
      "source": [
        "### Recalling,\n",
        "\n",
        "#### The decision variables x1, x2 and x3 are defined as follows\n",
        "* `x1`: Proportion of time (per day) for iPod cover production. \n",
        "* `x2`: Proportion of time (per day) for iPhone cover production. \n",
        "* `x3`: Proportion of time (per day) for iPad cover production. \n",
        "\n",
        "#### The decision variables z1, z2 and z3 are defined as follows\n",
        "* `z1`: The number of hours devoted for iPod production (in one week)\n",
        "* `z2`: The number of hours devoted for iPhone production (in one week)\n",
        "* `z3`: The number of hours devoted for iPad production (in one week)\n",
        "\n",
        "\n",
        "#### Equating the dialy production, we get\n",
        "* `n1 = n1`\n",
        "* `x1 * 6000 = (z1/40) * 6000`\n",
        "* `x1 = z1/40`\n",
        "\n",
        "#### Similarly, \n",
        "* `x1 = z1/40`\n",
        "* `x2 = z2/40`\n",
        "* `x3 = z3/40`\n",
        "\n",
        "\n",
        "---\n",
        "---"
      ],
      "metadata": {
        "id": "-T2JGn7_sVSb"
      }
    },
    {
      "cell_type": "markdown",
      "source": [
        "## (e) Implementation"
      ],
      "metadata": {
        "id": "zTHrmpHnWNc1"
      }
    },
    {
      "cell_type": "code",
      "source": [
        "def problem():\n",
        "\n",
        "    # The proportions\n",
        "    X = cp.Variable(3)\n",
        "\n",
        "    # The number sold per day\n",
        "    N = cp.multiply(X, max_production)\n",
        "\n",
        "    # The profit, to be maximized (the objective)\n",
        "    profit = cp.Maximize (5 * cp.sum(cp.multiply(N, profits)))\n",
        "\n",
        "    # Constraints\n",
        "    constraints = [\n",
        "                   cp.sum(X) <= 1,  # max production per day\n",
        "                   cp.sum(cp.multiply(N, space_for_one)) <= max_space,\n",
        "                   min_demand <= 5 * N,\n",
        "                   5 * N <= max_demand,\n",
        "    ]\n",
        "\n",
        "    # Formulating the problem and solving it\n",
        "    prob = cp.Problem(profit, constraints)\n",
        "    result = prob.solve()\n",
        "\n",
        "    print(\"The proportion of time per day devoted for iPods, iPhones and iPads respectively\")\n",
        "    print(\"Optimum Solution:\", X.value)\n",
        "    print()\n",
        "\n",
        "    print(\"The number of iPods, iPhones and iPads produced per week\")\n",
        "    print(\"Optimal Solution:\", 5 * cp.multiply(X.value, max_production).value)\n",
        "    print()\n",
        "\n",
        "    print(\"Optimum Value:\", result)\n",
        "\n",
        "\n",
        "problem()"
      ],
      "metadata": {
        "colab": {
          "base_uri": "https://localhost:8080/"
        },
        "id": "fxsSRoFzQSl9",
        "outputId": "b4c75001-157b-49ec-b6ac-fc98a0380517"
      },
      "execution_count": null,
      "outputs": [
        {
          "output_type": "stream",
          "name": "stdout",
          "text": [
            "The proportion of time per day devoted for iPods, iPhones and iPads respectively\n",
            "Optimum Solution: [0.16666667 0.31415449 0.51917884]\n",
            "\n",
            "The number of iPods, iPhones and iPads produced per week\n",
            "Optimal Solution: [5000.00000573 7853.86236644 7787.68257875]\n",
            "\n",
            "Optimum Value: 145000.0000091098\n"
          ]
        }
      ]
    }
  ]
}
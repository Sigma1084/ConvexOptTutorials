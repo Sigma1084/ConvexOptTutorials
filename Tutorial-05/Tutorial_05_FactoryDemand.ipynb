{
  "nbformat": 4,
  "nbformat_minor": 0,
  "metadata": {
    "colab": {
      "name": "Tutorial-05_FactoryDemand.ipynb",
      "provenance": []
    },
    "kernelspec": {
      "name": "python3",
      "display_name": "Python 3"
    },
    "language_info": {
      "name": "python"
    }
  },
  "cells": [
    {
      "cell_type": "markdown",
      "source": [
        "# Factory Demand"
      ],
      "metadata": {
        "id": "aRLyCcqkWQG5"
      }
    },
    {
      "cell_type": "markdown",
      "source": [
        "## Formulation\n"
      ],
      "metadata": {
        "id": "JvXevdBSWct8"
      }
    },
    {
      "cell_type": "markdown",
      "source": [
        "Suppose we have 2 factories and 3 destinations\n",
        "\n",
        "Here, n = 2 and m = 3\n",
        "\n",
        "We need to determine what quantity of goods each factory will send to each destination\n",
        "\n",
        "---\n",
        "\n",
        "### Variables\n",
        "\n",
        "* A vector `production[2]` storing the production of each factory\n",
        "* A vector `demand[3]` storing the demand of each destination\n",
        "\n",
        "So, let us define a matrix `Q[2][3]` such that \n",
        "* `Qij` will be the quantity of goods sent from factory i to destination j\n",
        "\n",
        "---\n",
        "\n",
        "### Constraints\n",
        "\n",
        "We need to satisfy the demand\n",
        "* `Q11` + `Q21` >= `demand[1]`\n",
        "* `Q12` + `Q22` >= `demand[2]`\n",
        "* `Q13` + `Q23` >= `demand[3]`\n",
        "\n",
        "Similarly, we can't exceed the production\n",
        "* `Q11` + `Q12` + `Q13` <= `production[1]`\n",
        "* `Q21` + `Q22` + `Q23` <= `production[2]`\n",
        "\n",
        "Finally, we can't have negative quantities\n",
        "* `Qij >= 0` for all i, j\n",
        "\n",
        "---\n",
        "\n",
        "Genenralizing for m, n\n",
        "\n",
        "Q to be a matrix of size `n x m`\n",
        "\n",
        "We have, \n",
        "* `Q.T @ np.ones(n) >= demand`\n",
        "* `Q @ np.ones(m) <= production`\n",
        "* `Q >= 0`"
      ],
      "metadata": {
        "id": "9gJwWg2bWgjY"
      }
    },
    {
      "cell_type": "markdown",
      "source": [
        "## Implementation"
      ],
      "metadata": {
        "id": "sNGNL3R1PR4a"
      }
    },
    {
      "cell_type": "markdown",
      "source": [
        "### Imports"
      ],
      "metadata": {
        "id": "gYv9F21FiTnr"
      }
    },
    {
      "cell_type": "code",
      "execution_count": null,
      "metadata": {
        "id": "-DrBWHtliF6m"
      },
      "outputs": [],
      "source": [
        "# imports\n",
        "import numpy as np\n",
        "import cvxpy as cp\n",
        "from matplotlib import pyplot as plt"
      ]
    },
    {
      "cell_type": "markdown",
      "source": [
        "### Given Data"
      ],
      "metadata": {
        "id": "jQeFdfqQiXUf"
      }
    },
    {
      "cell_type": "code",
      "source": [
        "n = 3  # Number of factories\n",
        "production = np.array([40, 50, 45])  \n",
        "# A vector of size n (Goods Produced by factories)\n",
        "\n",
        "\n",
        "m = 5  # Number of destinations\n",
        "demand = np.array([45, 20, 30, 30, 10])\n",
        "# A vector of size m (Goods required)\n",
        "\n",
        "\n",
        "# A matrix of size n * m (Cost involved)\n",
        "C = np.array([\n",
        "              [8, 6, 10, 9, 8],\n",
        "              [9, 12, 13, 7, 5],\n",
        "              [14, 9, 16, 5, 2]\n",
        "        ])"
      ],
      "metadata": {
        "id": "FBAtYO2AiRQE"
      },
      "execution_count": null,
      "outputs": []
    },
    {
      "cell_type": "markdown",
      "source": [
        "### Variables\n"
      ],
      "metadata": {
        "id": "458jc394ibSG"
      }
    },
    {
      "cell_type": "code",
      "source": [
        "# We need to calculate\n",
        "Q = cp.Variable((n, m))"
      ],
      "metadata": {
        "id": "kdJepHHnidbC"
      },
      "execution_count": null,
      "outputs": []
    },
    {
      "cell_type": "markdown",
      "source": [
        "### Objective\n"
      ],
      "metadata": {
        "id": "16oCDzmlidsv"
      }
    },
    {
      "cell_type": "code",
      "source": [
        "def total_cost(quantities, C):\n",
        "    return cp.sum(cp.multiply(Q, C))\n",
        "\n",
        "objective = cp.Minimize(total_cost(Q, C))"
      ],
      "metadata": {
        "id": "Q5NuMF31ifBl"
      },
      "execution_count": null,
      "outputs": []
    },
    {
      "cell_type": "markdown",
      "source": [
        "### Constraints"
      ],
      "metadata": {
        "id": "X7uMhkfOifOh"
      }
    },
    {
      "cell_type": "code",
      "source": [
        "constraints = [\n",
        "               Q @ np.ones(m) <= production,\n",
        "               Q.T @ np.ones(n) >= demand,\n",
        "               Q >= 0\n",
        "]"
      ],
      "metadata": {
        "id": "Lk20fOW1igci"
      },
      "execution_count": null,
      "outputs": []
    },
    {
      "cell_type": "markdown",
      "source": [
        "### Solving\n"
      ],
      "metadata": {
        "id": "xUjaSicGig3F"
      }
    },
    {
      "cell_type": "code",
      "source": [
        "prob = cp.Problem(objective, constraints)\n",
        "result = prob.solve()"
      ],
      "metadata": {
        "id": "KfX7zef6iiwI"
      },
      "execution_count": null,
      "outputs": []
    },
    {
      "cell_type": "markdown",
      "source": [
        "### Output"
      ],
      "metadata": {
        "id": "wFBV8EAURYmd"
      }
    },
    {
      "cell_type": "code",
      "source": [
        "print(\"Minimum Cost:\", round(result, 3))\n",
        "print()\n",
        "\n",
        "with np.printoptions(precision=2, suppress=True):\n",
        "    print(\"The Quantities\")\n",
        "    print (Q.value)"
      ],
      "metadata": {
        "colab": {
          "base_uri": "https://localhost:8080/"
        },
        "id": "KEXDTTTjRWu8",
        "outputId": "5cdeace3-c6b7-4625-a197-bea586f2d233"
      },
      "execution_count": null,
      "outputs": [
        {
          "output_type": "stream",
          "name": "stdout",
          "text": [
            "Minimum Cost: 1025.0\n",
            "\n",
            "The Quantities\n",
            "[[ 0. 15. 25.  0.  0.]\n",
            " [45.  0.  5.  0.  0.]\n",
            " [ 0.  5.  0. 30. 10.]]\n"
          ]
        }
      ]
    }
  ]
}
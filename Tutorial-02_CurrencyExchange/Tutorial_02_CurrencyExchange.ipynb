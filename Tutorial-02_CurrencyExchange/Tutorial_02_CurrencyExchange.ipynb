{
  "nbformat": 4,
  "nbformat_minor": 0,
  "metadata": {
    "colab": {
      "name": "Tutorial-02_CurrencyExchange.ipynb",
      "provenance": [],
      "collapsed_sections": [
        "gt-ypwTCkChm",
        "HQOhvTo1ylQq",
        "RIUBILnWyppa",
        "g6oeecDry1n1"
      ]
    },
    "kernelspec": {
      "name": "python3",
      "display_name": "Python 3"
    },
    "language_info": {
      "name": "python"
    }
  },
  "cells": [
    {
      "cell_type": "markdown",
      "source": [
        "#Currency Exchange Problem#\n"
      ],
      "metadata": {
        "id": "kV5Jz-Rebt8N"
      }
    },
    {
      "cell_type": "markdown",
      "source": [
        "##Problem Definition##"
      ],
      "metadata": {
        "id": "gt-ypwTCkChm"
      }
    },
    {
      "cell_type": "markdown",
      "source": [
        "We are given 10 currencies in total, say C1, C2, ..., C10\n",
        "\n",
        "Initially, we have c_init[n]\n",
        "Finally, we are supposed to have \n",
        "\n",
        "\n",
        "There is an exchange matrix F (n * n)\n",
        "\n",
        "* `Fij`: Number of units of j it takes to buy 1 unit of currency i\n",
        "\n",
        "* `Example`: Use `F21` amount of currency 2 to buy 1 USD\n",
        "\n",
        "* `1/Fij`: **Bid Price** of Cj in terms of Ci\n",
        "\n",
        "* `Fji`: **Ask Price** of Cj in terms of Ci\n",
        "\n"
      ],
      "metadata": {
        "id": "vn-XK1jGge01"
      }
    },
    {
      "cell_type": "markdown",
      "source": [
        "Value of currency j in terms of USD = sqrt (Fj1 / Fij)"
      ],
      "metadata": {
        "id": "F47RWbvQj5Pu"
      }
    },
    {
      "cell_type": "markdown",
      "source": [
        "**Find a matrix X (n \\* n)** (Exchange Matrix)\n",
        "\n",
        "* `Xij`: The amount of Cj converted into Ci\n",
        "\n",
        "* We obtain `Xij`/`Fij` of Ci after spending 1 Cj\n",
        "\n",
        "* The total of Ci spent can not exceed the initial ci\n",
        "\n",
        "* In the end after the conversion, we are left with at least c_req"
      ],
      "metadata": {
        "id": "6sn1UiPOn8YC"
      }
    },
    {
      "cell_type": "markdown",
      "source": [
        "##Solution##"
      ],
      "metadata": {
        "id": "ayDvEwzRjv7D"
      }
    },
    {
      "cell_type": "markdown",
      "source": [
        "###Value###"
      ],
      "metadata": {
        "id": "0GcCX74_yeVn"
      }
    },
    {
      "cell_type": "markdown",
      "source": [
        "Say we have `c = (c1, c2, ..., c10)` units of (C1, C2, ..., C10)\n",
        "\n",
        "c is a (n * 1) Matrix\n",
        "\n",
        "Define vals (1 * n), a column matrix where ith entry is the value of Ci\n",
        "\n",
        "`vals = [sqrt(Fi1/F1i) for all i]`\n",
        "\n",
        "`Value(c) = vals * c`\n",
        "\n",
        "`Dim(Value(c)) = 1`"
      ],
      "metadata": {
        "id": "6KhGe2emkXiS"
      }
    },
    {
      "cell_type": "markdown",
      "source": [
        "###Objective Function###"
      ],
      "metadata": {
        "id": "HQOhvTo1ylQq"
      }
    },
    {
      "cell_type": "markdown",
      "source": [
        "The Objective Function is the function we're trying to minimize\n",
        "\n",
        "Here, we're trying to minimize the loss of value in total currencies we will have\n",
        "\n",
        "Value Lost = Value(c_init) - Value(c_final)\n",
        "\n",
        "Therefore, \n",
        "Our objective here is \n",
        "\n",
        "`Value(c_init) - Value(c_final)`"
      ],
      "metadata": {
        "id": "a4Oc30ZntelG"
      }
    },
    {
      "cell_type": "markdown",
      "source": [
        "###c_final###"
      ],
      "metadata": {
        "id": "RIUBILnWyppa"
      }
    },
    {
      "cell_type": "markdown",
      "source": [
        "This is the final list of currencies we'll have \n",
        "\n",
        "`c_final = c_init + c_gained_due_to_exchnage - c_lost_due_to_exchange`\n",
        "\n",
        "`c_gained_due_to_exchange`: \n",
        "* This is the list of currency that is exchanged and gained\n",
        "* For Ci, This is equal to sum of `Xij`/`Fij` over all j\n",
        "* So, this is equal to `X/F @ [1, 1, ..., 1]`\n",
        "\n",
        "`c_lost_due_to_exchange`: \n",
        "* This is the list of the currency that is used for exchange and is hence lost\n",
        "* For Ci, This is equal to sum of `Xji` over all j\n",
        "* So, this is equal to `Transpose(X) @ [1, 1, ..., 1]`"
      ],
      "metadata": {
        "id": "oVfx73c_utyF"
      }
    },
    {
      "cell_type": "markdown",
      "source": [
        "###Constraints###"
      ],
      "metadata": {
        "id": "g6oeecDry1n1"
      }
    },
    {
      "cell_type": "markdown",
      "source": [
        "* `Xij` >= 0 for all i, j\n",
        "* `Xii` = 0 for all i\n",
        "* `c_lost_due_to_exchange` <= c_init\n",
        "* `c_final` >= c_req"
      ],
      "metadata": {
        "id": "5qBgAJPlxNMx"
      }
    },
    {
      "cell_type": "markdown",
      "source": [
        "##Implementation##"
      ],
      "metadata": {
        "id": "Ev44YwRMkh-g"
      }
    },
    {
      "cell_type": "code",
      "execution_count": 27,
      "metadata": {
        "id": "HGQe0almeFPJ"
      },
      "outputs": [],
      "source": [
        "import numpy as np\n",
        "import cvxpy as cp"
      ]
    },
    {
      "cell_type": "code",
      "source": [
        "# Exchange rate data.\n",
        "tickers = [\"USD\", \"EUR\", \"GBP\", \"CAD\", \"JPY\", \"CNY\", \"RUB\", \"MXN\", \"INR\", \"BRL\"]\n",
        "n = len(tickers)\n",
        "F = np.zeros((n, n))\n",
        "\n",
        "data = (\n",
        "    # USD\n",
        "    [1.0, 0.87, 0.76, 1.31, 108.90, 6.72, 65.45, 19.11, 71.13, 3.69],\n",
        "    # EUR\n",
        "    [1.0, 0.88, 1.51, 125.15, 7.72, 75.23, 21.96, 81.85, 4.24],\n",
        "    # GBP\n",
        "    [1.0, 1.72, 142.94, 8.82, 85.90, 25.08, 93.50, 4.84],\n",
        "    # CAD\n",
        "    [1.0, 82.93, 5.11, 49.82, 14.54, 54.23, 2.81],\n",
        "    # JPY\n",
        "    [1.0, 0.062, 0.60, 0.18, 0.65, 0.034],\n",
        "    # CNY\n",
        "    [1.0, 9.74, 2.85, 10.61, 0.55],\n",
        "    # RUB\n",
        "    [1.0, 0.29, 1.09, 0.056],\n",
        "    # MXN\n",
        "    [1.0, 3.73, 0.19],\n",
        "    # INR\n",
        "    [1.0, 0.052],\n",
        "    # BRL\n",
        "    [1.0]\n",
        ")\n",
        "\n",
        "for i in range(n):\n",
        "    F[i,i:] = data[i]\n",
        "\n",
        "for j in range(n):\n",
        "    for i in range(j+1,n):\n",
        "        F[i,j] = 1.035/F[j,i]\n",
        "\n",
        "# Initial and final portfolios.\n",
        "c_req = np.arange(1,n+1)\n",
        "c_req = 1e4*c_req/c_req.sum()\n",
        "c_init = c_req[::-1]"
      ],
      "metadata": {
        "id": "Z5jRPpzCeLnj"
      },
      "execution_count": 28,
      "outputs": []
    },
    {
      "cell_type": "code",
      "source": [
        "X = cp.Variable((n, n))\n",
        "\n",
        "from math import sqrt\n",
        "# vals (1 * n)\n",
        "vals = np.array([[sqrt(F[i, 0]/F[0, i])] for i in range(0, n)])\n",
        "# vals = np.sqrt(F[:,0]/F[0,:])\n",
        "\n",
        "def value(c):\n",
        "    return c @ vals\n",
        "\n",
        "def value_lost(c_final):\n",
        "    return value(c_init - c_final)\n",
        "\n",
        "c_final = c_init + (X/F)@np.ones(n) - X.T@np.ones(n)"
      ],
      "metadata": {
        "id": "EvILGFCfmHB-"
      },
      "execution_count": 45,
      "outputs": []
    },
    {
      "cell_type": "code",
      "source": [
        "objective = cp.Minimize(value_lost(c_final))\n",
        "\n",
        "constraints = [\n",
        "               0 <= X,\n",
        "               0 == cp.diag(X),\n",
        "               X.T@np.ones(n) <= c_init,\n",
        "               c_final >= c_req\n",
        "]"
      ],
      "metadata": {
        "id": "Tqv3i-7gfhVe"
      },
      "execution_count": 46,
      "outputs": []
    },
    {
      "cell_type": "code",
      "source": [
        "prob = cp.Problem(objective, constraints)\n",
        "prob.solve()\n",
        "\n",
        "print(\"Minimal Value Lost:\", value_lost(c_final.value), \"USD\")\n"
      ],
      "metadata": {
        "colab": {
          "base_uri": "https://localhost:8080/"
        },
        "id": "fL2OxqnJ1R5l",
        "outputId": "20337480-1053-4556-9a41-f2a71ae08bbd"
      },
      "execution_count": 54,
      "outputs": [
        {
          "output_type": "stream",
          "name": "stdout",
          "text": [
            "Minimal Value Lost: [7.72005934] USD\n"
          ]
        }
      ]
    }
  ]
}
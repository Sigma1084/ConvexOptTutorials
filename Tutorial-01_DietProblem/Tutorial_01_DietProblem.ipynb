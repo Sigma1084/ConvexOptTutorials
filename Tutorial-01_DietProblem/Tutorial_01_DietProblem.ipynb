{
  "nbformat": 4,
  "nbformat_minor": 0,
  "metadata": {
    "colab": {
      "name": "Tutorial-01_DietProblem.ipynb",
      "provenance": []
    },
    "kernelspec": {
      "name": "python3",
      "display_name": "Python 3"
    },
    "language_info": {
      "name": "python"
    }
  },
  "cells": [
    {
      "cell_type": "code",
      "execution_count": null,
      "metadata": {
        "id": "_rVrVZfqsQSd"
      },
      "outputs": [],
      "source": [
        "import numpy as np\n",
        "import cvxpy as cp"
      ]
    },
    {
      "cell_type": "markdown",
      "source": [
        "The inputs"
      ],
      "metadata": {
        "id": "MhADZqjWtUuf"
      }
    },
    {
      "cell_type": "code",
      "source": [
        "calories = np.array([72, 121, 65])\n",
        "vitamin = np.array([107, 500, 0])\n",
        "cost = np.array([0.18, 0.23, 0.05])"
      ],
      "metadata": {
        "id": "oh0jwI8AuFXq"
      },
      "execution_count": null,
      "outputs": []
    },
    {
      "cell_type": "markdown",
      "source": [
        "s is the final answer (column matrix) we are expecting\n",
        "\n",
        "objective is the objective function\n",
        "\n",
        "constraints list contains all the constraints"
      ],
      "metadata": {
        "id": "TzGkHkfeuhuB"
      }
    },
    {
      "cell_type": "code",
      "source": [
        "s = cp.Variable((3, 1), integer=True)\n",
        "\n",
        "def total_cost(s):\n",
        "    return np.matmul(cost, s)\n",
        "\n",
        "objective = cp.Minimize(cp.matmul(cost, s))\n",
        "\n",
        "constraints = [\n",
        "               0 <= s,\n",
        "               10 >= s,\n",
        "               2000 <= cp.matmul(calories, s),\n",
        "               2250 >= cp.matmul(calories, s),\n",
        "               5000 <= cp.matmul(vitamin, s),\n",
        "               50000 >= cp.matmul(vitamin, s)\n",
        "]"
      ],
      "metadata": {
        "id": "J2ZgT8D-uLCr"
      },
      "execution_count": null,
      "outputs": []
    },
    {
      "cell_type": "markdown",
      "source": [
        "Only solving the problem and printing"
      ],
      "metadata": {
        "id": "y6TonRghzz2u"
      }
    },
    {
      "cell_type": "code",
      "source": [
        "prob = cp.Problem(objective, constraints)\n",
        "prob.solve()\n",
        "\n",
        "print (\"Optimal Servings:\", s.value.tolist())\n",
        "print (\"Optimal Penalty:\", total_cost(s.value))"
      ],
      "metadata": {
        "colab": {
          "base_uri": "https://localhost:8080/"
        },
        "id": "Aqr3WdKWzyl3",
        "outputId": "755f463e-3672-4d6c-f7a1-4090d622f3c3"
      },
      "execution_count": null,
      "outputs": [
        {
          "output_type": "stream",
          "name": "stdout",
          "text": [
            "Optimal Servings: [[2.0], [10.0], [10.0]]\n",
            "Optimal Penalty: [3.16]\n"
          ]
        }
      ]
    }
  ]
}
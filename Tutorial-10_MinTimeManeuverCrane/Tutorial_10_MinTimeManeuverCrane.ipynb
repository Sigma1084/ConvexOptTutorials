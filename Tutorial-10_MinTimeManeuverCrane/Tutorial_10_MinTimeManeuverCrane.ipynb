{
  "nbformat": 4,
  "nbformat_minor": 0,
  "metadata": {
    "colab": {
      "name": "Tutorial-10_MinTimeManeuverCrane",
      "provenance": [],
      "collapsed_sections": []
    },
    "kernelspec": {
      "name": "python3",
      "display_name": "Python 3"
    },
    "language_info": {
      "name": "python"
    }
  },
  "cells": [
    {
      "cell_type": "markdown",
      "source": [
        "# Minimum Time Maneuver for a Crane"
      ],
      "metadata": {
        "id": "psOnU61xXvHH"
      }
    },
    {
      "cell_type": "code",
      "execution_count": null,
      "metadata": {
        "id": "yQ6pvTsdXP2V"
      },
      "outputs": [],
      "source": [
        "# Imports\n",
        "import numpy as np\n",
        "import cvxpy as cp\n",
        "import matplotlib.pyplot as plt"
      ]
    },
    {
      "cell_type": "markdown",
      "source": [
        "## Given"
      ],
      "metadata": {
        "id": "DqdXGcfkX6-k"
      }
    },
    {
      "cell_type": "code",
      "source": [
        "m = 0.1  # Mass\n",
        "theta = (np.pi / 180) * 15  # Theta (in radians)\n",
        "Tmax = 2  # Max tension\n",
        "h = 0.1  # Time Step\n",
        "p_init = np.array([0, 0])  # 1*2\n",
        "p_des = np.array([10, 2])  # 1*2\n",
        "g = np.array([0, -9.8])  # 1*2\n",
        "\n",
        "left_mul = np.array([-np.sin(theta), np.cos(theta)])\n",
        "right_mul = np.array([np.sin(theta), np.cos(theta)])"
      ],
      "metadata": {
        "id": "LsLJa36QX7yG"
      },
      "execution_count": null,
      "outputs": []
    },
    {
      "cell_type": "markdown",
      "source": [
        "## Function for checking\n",
        "\n",
        "This is a function to check if the value of k provides us with an optimal solution\n",
        "\n",
        "Returns True or False"
      ],
      "metadata": {
        "id": "N7ajq82XUWim"
      }
    },
    {
      "cell_type": "code",
      "source": [
        "def trySolve(k: int, return_data: bool=False) -> bool:\n",
        "\n",
        "    # Special case when k = 1\n",
        "    if (k == 1):\n",
        "        return np.all(p_init == p_des)\n",
        "\n",
        "    Tl = cp.Variable(k-1)  # Tension in the left wire\n",
        "    Tr = cp.Variable(k-1)  # Tension in the right wire\n",
        "    p = cp.Variable((k, 2))  # Positions\n",
        "    v = cp.Variable((k, 2))  # Velocities\n",
        "\n",
        "    constraints = [\n",
        "                   p[0] == p_init,  # Initially starts at p_init\n",
        "                   p[k-1] == p_des,  # Finally ends at p_des\n",
        "\n",
        "                   v[0] == np.zeros(2),  # Initially, velocity is 0\n",
        "                   v[k-1] == np.zeros(2),  # Finally, velocity is 0\n",
        "\n",
        "                   Tl <= Tmax,  # Max Condition\n",
        "                   Tr <= Tmax,  # Max Condition\n",
        "                   Tl >= 0,  # Tension can't be negative\n",
        "                   Tr >= 0,  # Tension can't be negative\n",
        "    ]\n",
        "\n",
        "    # Appending the constraints of motion\n",
        "    for i in range(k-1):\n",
        "        force = Tl[i]*left_mul + Tr[i]*right_mul + m*g\n",
        "        constraints += [\n",
        "                        v[i+1] == force*h/m + v[i],\n",
        "                        p[i+1] == v[i]*h + p[i]\n",
        "        ]\n",
        "    \n",
        "    prob = cp.Problem(cp.Minimize(0), constraints)  # Only Constraints\n",
        "    prob.solve()\n",
        "\n",
        "    if (not return_data):\n",
        "        return prob.status == 'optimal'\n",
        "    return (Tl.value, Tr.value, p.value, v.value)\n"
      ],
      "metadata": {
        "id": "t2-z98Y3-Uio"
      },
      "execution_count": null,
      "outputs": []
    },
    {
      "cell_type": "markdown",
      "source": [
        "## Bisection Method "
      ],
      "metadata": {
        "id": "FS-Wa-W8U1h3"
      }
    },
    {
      "cell_type": "code",
      "source": [
        "# Implementing the Bisection Method\n",
        "\n",
        "def bisectionAnswer() -> int:\n",
        "\n",
        "    # Special Case when the problem is already solved\n",
        "    if (trySolve(1)):\n",
        "        return 1\n",
        "\n",
        "    # Finding the upper bound and the lower bound (Takes O(log k))\n",
        "    upper = 2\n",
        "    while (not trySolve(upper)):\n",
        "        upper *= 2\n",
        "    lower = upper/2 + 1  # Since it failed for upper/2\n",
        "\n",
        "    # We know that lower <= k_optimal <= upper\n",
        "    # We iterate till lower = upper implying lower = k_optimal = upper\n",
        "    # Terminates when lower = upper\n",
        "    while (lower < upper):\n",
        "        k = int((upper + lower) / 2)\n",
        "        if (trySolve(k)):\n",
        "            # This means it is valid for k implying k_optimal <= k\n",
        "            upper = k\n",
        "        else:\n",
        "            # Fails implying k_optimal > k\n",
        "            lower = k+1\n",
        "    \n",
        "    # upper = lower = k_optimal \n",
        "    return upper\n",
        "\n",
        "k_optimal = bisectionAnswer()\n",
        "print(\"The Optimal Value of k:\", k_optimal)"
      ],
      "metadata": {
        "colab": {
          "base_uri": "https://localhost:8080/"
        },
        "id": "K6FdApjKLDII",
        "outputId": "570ba32a-0537-4aaf-ebc1-44db6bd44395"
      },
      "execution_count": null,
      "outputs": [
        {
          "output_type": "stream",
          "name": "stdout",
          "text": [
            "The Optimal Value of k: 34\n"
          ]
        }
      ]
    },
    {
      "cell_type": "markdown",
      "source": [
        "## Graphing"
      ],
      "metadata": {
        "id": "nsteyGiNQBfu"
      }
    },
    {
      "cell_type": "code",
      "source": [
        "Tl, Tr, p, v = trySolve(k_optimal, return_data=True)"
      ],
      "metadata": {
        "id": "mTUonUU9R6Gp"
      },
      "execution_count": null,
      "outputs": []
    },
    {
      "cell_type": "code",
      "source": [
        "# Trajectory\n",
        "plt.plot(p.T[0], p.T[1])\n",
        "plt.title(\"Trajectory\")\n",
        "plt.xlabel(\"X\")\n",
        "plt.ylabel(\"Y\")\n",
        "plt.show()\n",
        "\n",
        "print()"
      ],
      "metadata": {
        "colab": {
          "base_uri": "https://localhost:8080/",
          "height": 312
        },
        "id": "Cs4JskxTP_9O",
        "outputId": "3b57cd4a-3d65-421d-d67a-95d4bf3986ef"
      },
      "execution_count": null,
      "outputs": [
        {
          "output_type": "display_data",
          "data": {
            "text/plain": [
              "<Figure size 432x288 with 1 Axes>"
            ],
            "image/png": "[encoded data removed]"
          },
          "metadata": {
            "needs_background": "light"
          }
        },
        {
          "output_type": "stream",
          "name": "stdout",
          "text": [
            "\n"
          ]
        }
      ]
    },
    {
      "cell_type": "code",
      "source": [
        "times = np.array([i*h for i in range(k_optimal-1)])\n",
        "\n",
        "plt.plot(times, Tl, c='r', label=\"left\")\n",
        "plt.plot(times, Tr, c='b', label=\"right\")\n",
        "plt.title(\"Tensions Vs Time\")\n",
        "plt.legend()\n",
        "plt.xlabel(\"Time\")\n",
        "plt.ylabel(\"Tension\")\n",
        "plt.show()\n",
        "\n",
        "print()"
      ],
      "metadata": {
        "colab": {
          "base_uri": "https://localhost:8080/",
          "height": 312
        },
        "id": "hjtEvT4iR37J",
        "outputId": "c6da9e2b-3a76-4efe-9a17-91073f9b579c"
      },
      "execution_count": null,
      "outputs": [
        {
          "output_type": "display_data",
          "data": {
            "text/plain": [
              "<Figure size 432x288 with 1 Axes>"
            ],
            "image/png": "[encoded data removed]"
          },
          "metadata": {
            "needs_background": "light"
          }
        },
        {
          "output_type": "stream",
          "name": "stdout",
          "text": [
            "\n"
          ]
        }
      ]
    }
  ]
}